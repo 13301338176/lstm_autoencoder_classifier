{
 "cells": [
  {
   "cell_type": "code",
   "execution_count": 1,
   "metadata": {
    "collapsed": true
   },
   "outputs": [],
   "source": [
    "import numpy as np\n",
    "import pandas as pd\n",
    "import matplotlib.pyplot as plt\n",
    "%matplotlib inline"
   ]
  },
  {
   "cell_type": "code",
   "execution_count": 2,
   "metadata": {
    "collapsed": true
   },
   "outputs": [],
   "source": [
    "stock_data = pd.read_csv(\"data/HistoricalQuotes.csv\")"
   ]
  },
  {
   "cell_type": "code",
   "execution_count": 3,
   "metadata": {},
   "outputs": [
    {
     "data": {
      "text/html": [
       "<div>\n",
       "<style scoped>\n",
       "    .dataframe tbody tr th:only-of-type {\n",
       "        vertical-align: middle;\n",
       "    }\n",
       "\n",
       "    .dataframe tbody tr th {\n",
       "        vertical-align: top;\n",
       "    }\n",
       "\n",
       "    .dataframe thead th {\n",
       "        text-align: right;\n",
       "    }\n",
       "</style>\n",
       "<table border=\"1\" class=\"dataframe\">\n",
       "  <thead>\n",
       "    <tr style=\"text-align: right;\">\n",
       "      <th></th>\n",
       "      <th>date</th>\n",
       "      <th>close</th>\n",
       "      <th>volume</th>\n",
       "      <th>open</th>\n",
       "      <th>high</th>\n",
       "      <th>low</th>\n",
       "    </tr>\n",
       "  </thead>\n",
       "  <tbody>\n",
       "    <tr>\n",
       "      <th>0</th>\n",
       "      <td>5/9/19</td>\n",
       "      <td>1162.38</td>\n",
       "      <td>1185973</td>\n",
       "      <td>1166.27</td>\n",
       "      <td>1169.660</td>\n",
       "      <td>1150.85</td>\n",
       "    </tr>\n",
       "    <tr>\n",
       "      <th>1</th>\n",
       "      <td>5/8/19</td>\n",
       "      <td>1166.27</td>\n",
       "      <td>1309514</td>\n",
       "      <td>1174.10</td>\n",
       "      <td>1180.424</td>\n",
       "      <td>1165.74</td>\n",
       "    </tr>\n",
       "  </tbody>\n",
       "</table>\n",
       "</div>"
      ],
      "text/plain": [
       "     date    close   volume     open      high      low\n",
       "0  5/9/19  1162.38  1185973  1166.27  1169.660  1150.85\n",
       "1  5/8/19  1166.27  1309514  1174.10  1180.424  1165.74"
      ]
     },
     "execution_count": 3,
     "metadata": {},
     "output_type": "execute_result"
    }
   ],
   "source": [
    "stock_data.head(2)"
   ]
  },
  {
   "cell_type": "code",
   "execution_count": 4,
   "metadata": {},
   "outputs": [
    {
     "name": "stdout",
     "output_type": "stream",
     "text": [
      "<class 'pandas.core.frame.DataFrame'>\n",
      "RangeIndex: 1259 entries, 0 to 1258\n",
      "Data columns (total 6 columns):\n",
      "date      1259 non-null object\n",
      "close     1259 non-null float64\n",
      "volume    1259 non-null int64\n",
      "open      1259 non-null float64\n",
      "high      1259 non-null float64\n",
      "low       1259 non-null float64\n",
      "dtypes: float64(4), int64(1), object(1)\n",
      "memory usage: 59.1+ KB\n"
     ]
    }
   ],
   "source": [
    "stock_data.info()"
   ]
  },
  {
   "cell_type": "code",
   "execution_count": 5,
   "metadata": {},
   "outputs": [
    {
     "data": {
      "text/html": [
       "<div>\n",
       "<style scoped>\n",
       "    .dataframe tbody tr th:only-of-type {\n",
       "        vertical-align: middle;\n",
       "    }\n",
       "\n",
       "    .dataframe tbody tr th {\n",
       "        vertical-align: top;\n",
       "    }\n",
       "\n",
       "    .dataframe thead th {\n",
       "        text-align: right;\n",
       "    }\n",
       "</style>\n",
       "<table border=\"1\" class=\"dataframe\">\n",
       "  <thead>\n",
       "    <tr style=\"text-align: right;\">\n",
       "      <th></th>\n",
       "      <th>date</th>\n",
       "      <th>close</th>\n",
       "      <th>volume</th>\n",
       "      <th>open</th>\n",
       "      <th>high</th>\n",
       "      <th>low</th>\n",
       "      <th>average</th>\n",
       "    </tr>\n",
       "  </thead>\n",
       "  <tbody>\n",
       "    <tr>\n",
       "      <th>0</th>\n",
       "      <td>5/9/19</td>\n",
       "      <td>1162.38</td>\n",
       "      <td>1185973</td>\n",
       "      <td>1166.27</td>\n",
       "      <td>1169.660</td>\n",
       "      <td>1150.85</td>\n",
       "      <td>1160.255</td>\n",
       "    </tr>\n",
       "    <tr>\n",
       "      <th>1</th>\n",
       "      <td>5/8/19</td>\n",
       "      <td>1166.27</td>\n",
       "      <td>1309514</td>\n",
       "      <td>1174.10</td>\n",
       "      <td>1180.424</td>\n",
       "      <td>1165.74</td>\n",
       "      <td>1173.082</td>\n",
       "    </tr>\n",
       "  </tbody>\n",
       "</table>\n",
       "</div>"
      ],
      "text/plain": [
       "     date    close   volume     open      high      low   average\n",
       "0  5/9/19  1162.38  1185973  1166.27  1169.660  1150.85  1160.255\n",
       "1  5/8/19  1166.27  1309514  1174.10  1180.424  1165.74  1173.082"
      ]
     },
     "execution_count": 5,
     "metadata": {},
     "output_type": "execute_result"
    }
   ],
   "source": [
    "import math\n",
    "stock_data[\"average\"] = (stock_data[\"high\"] + stock_data[\"low\"])/2\n",
    "stock_data.head(2)"
   ]
  },
  {
   "cell_type": "code",
   "execution_count": 6,
   "metadata": {
    "collapsed": true
   },
   "outputs": [],
   "source": [
    "input_feature= stock_data.iloc[:,[2,6]].values\n",
    "input_data = input_feature"
   ]
  },
  {
   "cell_type": "code",
   "execution_count": 7,
   "metadata": {},
   "outputs": [
    {
     "data": {
      "image/png": "[encoded data removed]",
      "text/plain": [
       "<Figure size 432x288 with 1 Axes>"
      ]
     },
     "metadata": {
      "needs_background": "light"
     },
     "output_type": "display_data"
    }
   ],
   "source": [
    "plt.plot(input_feature[:,0])\n",
    "plt.title(\"Volume of stocks sold\")\n",
    "plt.xlabel(\"Time (latest-> oldest)\")\n",
    "plt.ylabel(\"Volume of stocks traded\")\n",
    "plt.show()"
   ]
  },
  {
   "cell_type": "code",
   "execution_count": 8,
   "metadata": {},
   "outputs": [
    {
     "data": {
      "image/png": "[encoded data removed]",
      "text/plain": [
       "<Figure size 432x288 with 1 Axes>"
      ]
     },
     "metadata": {
      "needs_background": "light"
     },
     "output_type": "display_data"
    }
   ],
   "source": [
    "plt.plot(input_feature[:,1], color='blue')\n",
    "plt.title(\"Google Stock Prices\")\n",
    "plt.xlabel(\"Time (latest-> oldest)\")\n",
    "plt.ylabel(\"Stock Opening Price\")\n",
    "plt.show()"
   ]
  },
  {
   "cell_type": "code",
   "execution_count": 9,
   "metadata": {
    "collapsed": true
   },
   "outputs": [],
   "source": [
    "from sklearn.preprocessing import MinMaxScaler\n",
    "sc= MinMaxScaler(feature_range=(0,1))\n",
    "input_data[:,0:2] = sc.fit_transform(input_feature[:,:])"
   ]
  },
  {
   "cell_type": "code",
   "execution_count": 10,
   "metadata": {},
   "outputs": [
    {
     "data": {
      "text/plain": [
       "array([[0.06199255, 0.85047673],\n",
       "       [0.07361854, 0.86679577],\n",
       "       [0.09637853, 0.87017739],\n",
       "       ...,\n",
       "       [0.10526283, 0.05218988],\n",
       "       [0.12977123, 0.04177022],\n",
       "       [0.17922778, 0.0258036 ]])"
      ]
     },
     "execution_count": 10,
     "metadata": {},
     "output_type": "execute_result"
    }
   ],
   "source": [
    "input_data"
   ]
  },
  {
   "cell_type": "code",
   "execution_count": 11,
   "metadata": {
    "collapsed": true
   },
   "outputs": [],
   "source": [
    "lookback= 50"
   ]
  },
  {
   "cell_type": "code",
   "execution_count": 12,
   "metadata": {
    "collapsed": true
   },
   "outputs": [],
   "source": [
    "X=[]\n",
    "y=[]\n",
    "for i in range(len(stock_data)-lookback-1):\n",
    "    t=[]\n",
    "    for j in range(0,lookback):\n",
    "        \n",
    "        t.append(input_data[[(i+j)], :])\n",
    "    X.append(t)\n",
    "    y.append(input_data[i+ lookback,1])"
   ]
  },
  {
   "cell_type": "code",
   "execution_count": 13,
   "metadata": {},
   "outputs": [
    {
     "data": {
      "text/plain": [
       "[0.7858914044137482,\n",
       " 0.7861776586931704,\n",
       " 0.7902361082547527,\n",
       " 0.7781689000755647,\n",
       " 0.7766549329977328,\n",
       " 0.7920681356430532,\n",
       " 0.7941037216300539,\n",
       " 0.800738459706434,\n",
       " 0.7984198000431162,\n",
       " 0.8076785356808642,\n",
       " 0.7936298117674552,\n",
       " 0.7730576708863302,\n",
       " 0.7645686411999166,\n",
       " 0.7679909701405616,\n",
       " 0.8118387645417966,\n",
       " 0.814591894589215,\n",
       " 0.8004203993959649,\n",
       " 0.7928314803881786,\n",
       " 0.7819220117390968,\n",
       " 0.747005350855827,\n",
       " 0.7299348631567777,\n",
       " 0.7399762179944656,\n",
       " 0.7584364384140772,\n",
       " 0.7357619188807534,\n",
       " 0.7386276422780778,\n",
       " 0.7451796846737357,\n",
       " 0.7733420168038894,\n",
       " 0.7517444494818128,\n",
       " 0.7558251632651283,\n",
       " 0.7276291167420648,\n",
       " 0.7056161626545159,\n",
       " 0.7180014311441729,\n",
       " 0.7285642140548432,\n",
       " 0.7413947669791565,\n",
       " 0.7388884517326622,\n",
       " 0.7285005383806873,\n",
       " 0.7090975872008456,\n",
       " 0.6917900809584352,\n",
       " 0.6898689966832032,\n",
       " 0.6951233530121486,\n",
       " 0.7029921650931479,\n",
       " 0.6726046830309544,\n",
       " 0.661224485122379,\n",
       " 0.6298319324791037,\n",
       " 0.6451369946188648,\n",
       " 0.6660462794290867,\n",
       " 0.6911539603374977,\n",
       " 0.6917073852777134,\n",
       " 0.6854288747490582,\n",
       " 0.71236222183956,\n",
       " 0.731636485817786,\n",
       " 0.7384749733290525,\n",
       " 0.7104856660077936,\n",
       " 0.6922290041868819,\n",
       " 0.7125975864693073,\n",
       " 0.7114589941698908,\n",
       " 0.7448107347135919,\n",
       " 0.7918292723498914,\n",
       " 0.7569288325424548,\n",
       " 0.7548900659523496,\n",
       " 0.7245820989677731,\n",
       " 0.707705818894296,\n",
       " 0.6995316689152471,\n",
       " 0.6847540779943675,\n",
       " 0.6987746853763308,\n",
       " 0.6642524192780423,\n",
       " 0.6956068682961234,\n",
       " 0.7203709804571656,\n",
       " 0.7125148907885852,\n",
       " 0.701022926486911,\n",
       " 0.7024164759311993,\n",
       " 0.70582926306253,\n",
       " 0.7284433511368651,\n",
       " 0.7518556433663526,\n",
       " 0.7492381342353183,\n",
       " 0.7117420042341458,\n",
       " 0.6972988855357556,\n",
       " 0.7341143664725247,\n",
       " 0.7397440339678232,\n",
       " 0.741337516123272,\n",
       " 0.6709189633854693,\n",
       " 0.7056702329072955,\n",
       " 0.7360449925570705,\n",
       " 0.7614325665386936,\n",
       " 0.745103350199223,\n",
       " 0.7597532080994185,\n",
       " 0.7758725046339796,\n",
       " 0.7726155670547783,\n",
       " 0.7731371859639473,\n",
       " 0.7936520759891883,\n",
       " 0.7908149780198062,\n",
       " 0.7753740405154126,\n",
       " 0.7747096761389054,\n",
       " 0.7577048996999991,\n",
       " 0.7822782392868222,\n",
       " 0.8322913147461852,\n",
       " 0.8344805874752044,\n",
       " 0.8492743994719176,\n",
       " 0.8711989964052187,\n",
       " 0.9011946281649144,\n",
       " 0.8988727878984921,\n",
       " 0.901169183340077,\n",
       " 0.8882622959412512,\n",
       " 0.8919645179551086,\n",
       " 0.8813190393637163,\n",
       " 0.8723401967991808,\n",
       " 0.853275661789678,\n",
       " 0.8744839232917407,\n",
       " 0.8776645263964293,\n",
       " 0.8551076891779785,\n",
       " 0.8585300181186235,\n",
       " 0.8573213889388418,\n",
       " 0.868443639935627,\n",
       " 0.8638034580661968,\n",
       " 0.8609472764781865,\n",
       " 0.8596432292052645,\n",
       " 0.859471476637611,\n",
       " 0.8580879142870717,\n",
       " 0.8617933169040339,\n",
       " 0.8762393617572806,\n",
       " 0.9045342614248373,\n",
       " 0.9328132580768711,\n",
       " 0.955891459756242,\n",
       " 0.9563964123051425,\n",
       " 0.9463560116483862,\n",
       " 0.9448108746601285,\n",
       " 0.9188589344636093,\n",
       " 0.9172757574622195,\n",
       " 0.9079375067468543,\n",
       " 0.9122463969968997,\n",
       " 0.9046210282775333,\n",
       " 0.8992989887145204,\n",
       " 0.9192031393315985,\n",
       " 0.9295083570028513,\n",
       " 0.9461934828297365,\n",
       " 0.9537848190958829,\n",
       " 0.9504653508596435,\n",
       " 0.9656412805133541,\n",
       " 0.9611606376956554,\n",
       " 0.9566007342485878,\n",
       " 0.9276852989153062,\n",
       " 0.9297055543953419,\n",
       " 0.9230962611437994,\n",
       " 0.9288277079384482,\n",
       " 0.9221533395473833,\n",
       " 0.9305490503387057,\n",
       " 0.9677646511460445,\n",
       " 0.9766071730615129,\n",
       " 0.9678282632081379,\n",
       " 0.9656463694783217,\n",
       " 0.8930840902479589,\n",
       " 0.8890065570677483,\n",
       " 0.8904314672586486,\n",
       " 0.8977595768118511,\n",
       " 0.8842738196479718,\n",
       " 0.882136454361621,\n",
       " 0.8854043968275644,\n",
       " 0.8630941835738515,\n",
       " 0.8407951660430666,\n",
       " 0.8432694844223281,\n",
       " 0.8362149067361293,\n",
       " 0.8130455489717776,\n",
       " 0.796705454969689,\n",
       " 0.7966163980827579,\n",
       " 0.7876852645647925,\n",
       " 0.8013151030493137,\n",
       " 0.7854715648039292,\n",
       " 0.7963722549884416,\n",
       " 0.8055404706618305,\n",
       " 0.8098795130293086,\n",
       " 0.8436362079602988,\n",
       " 0.8562126306965474,\n",
       " 0.8726999866223832,\n",
       " 0.8535110264194248,\n",
       " 0.8488164562369047,\n",
       " 0.8354611038003179,\n",
       " 0.8349553879066727,\n",
       " 0.8246311502288537,\n",
       " 0.8186802418199814,\n",
       " 0.80935153291393,\n",
       " 0.798512037533152,\n",
       " 0.8071123883282296,\n",
       " 0.8175466112614087,\n",
       " 0.8240255633977209,\n",
       " 0.814462762103165,\n",
       " 0.7855860665156982,\n",
       " 0.7513945831402971,\n",
       " 0.7267703539037988,\n",
       " 0.7283924614871902,\n",
       " 0.7460416281151063,\n",
       " 0.7398617162826966,\n",
       " 0.7372345381182239,\n",
       " 0.7440982796181415,\n",
       " 0.7494226092153902,\n",
       " 0.7296837863476935,\n",
       " 0.7486083748205898,\n",
       " 0.7518907572246283,\n",
       " 0.7506121547765436,\n",
       " 0.7800899843507962,\n",
       " 0.7688812209495639,\n",
       " 0.764963035984898,\n",
       " 0.7367987954928819,\n",
       " 0.7151007211126967,\n",
       " 0.7157909119864141,\n",
       " 0.6882023606563465,\n",
       " 0.6694717889728361,\n",
       " 0.6868340652007097,\n",
       " 0.6762878214261836,\n",
       " 0.6808488062783067,\n",
       " 0.6943600082670236,\n",
       " 0.6886858123282593,\n",
       " 0.6770002765216336,\n",
       " 0.6895891036099908,\n",
       " 0.7378261302956961,\n",
       " 0.7495943617830434,\n",
       " 0.749864713046942,\n",
       " 0.7379756186416162,\n",
       " 0.7268339659658929,\n",
       " 0.6911094318940318,\n",
       " 0.690740481933888,\n",
       " 0.6861125135803801,\n",
       " 0.6766402958622453,\n",
       " 0.6768857748098649,\n",
       " 0.6807406657727473,\n",
       " 0.6685080662321154,\n",
       " 0.6866191200428948,\n",
       " 0.6604086604260264,\n",
       " 0.6561736873921336,\n",
       " 0.6626048668698137,\n",
       " 0.6757916473418522,\n",
       " 0.6496916182647785,\n",
       " 0.6858800751054894,\n",
       " 0.6873245141994526,\n",
       " 0.7003967929597221,\n",
       " 0.7285324080237965,\n",
       " 0.7683789401072714,\n",
       " 0.7666042271869171,\n",
       " 0.7808151618586654,\n",
       " 0.8296946703715178,\n",
       " 0.8346436888024129,\n",
       " 0.8374489807407481,\n",
       " 0.8438483541873816,\n",
       " 0.8593569749258425,\n",
       " 0.8331428258093727,\n",
       " 0.7995171081142334,\n",
       " 0.7723562206776222,\n",
       " 0.7684903248279975,\n",
       " 0.7522534095906248,\n",
       " 0.7293616548652504,\n",
       " 0.7592640313419172,\n",
       " 0.7933912665346037,\n",
       " 0.8132827583513254,\n",
       " 0.8187629375007033,\n",
       " 0.7941695601143208,\n",
       " 0.7899816600063774,\n",
       " 0.79945349605214,\n",
       " 0.7753890529620671,\n",
       " 0.7693544310794793,\n",
       " 0.7457136443229508,\n",
       " 0.7219549208033007,\n",
       " 0.7117688485243494,\n",
       " 0.7117502738022181,\n",
       " 0.6698311971236659,\n",
       " 0.6843029412499984,\n",
       " 0.7293148363875497,\n",
       " 0.7132888587480801,\n",
       " 0.7496643350513463,\n",
       " 0.7931227600205055,\n",
       " 0.8574804190940761,\n",
       " 0.8578684526728484,\n",
       " 0.8629001667844654,\n",
       " 0.8748783180767221,\n",
       " 0.8590261922029547,\n",
       " 0.8620477651524088,\n",
       " 0.8634535917246811,\n",
       " 0.8567530787760962,\n",
       " 0.8342429964232843,\n",
       " 0.8159035753095885,\n",
       " 0.8056302272814448,\n",
       " 0.8053757790330696,\n",
       " 0.8105484574742869,\n",
       " 0.7900007436250056,\n",
       " 0.7777077126253846,\n",
       " 0.7742694806692165,\n",
       " 0.78132450363985,\n",
       " 0.7820174298322375,\n",
       " 0.7714323826998344,\n",
       " 0.759550667293712,\n",
       " 0.7416937436709972,\n",
       " 0.7179473608913931,\n",
       " 0.706770721581518,\n",
       " 0.7099004350365312,\n",
       " 0.7142896673210013,\n",
       " 0.7167705377426581,\n",
       " 0.7252436644135487,\n",
       " 0.7300042639165218,\n",
       " 0.7324063826053069,\n",
       " 0.7358986848142548,\n",
       " 0.7359622968763484,\n",
       " 0.7210961579650346,\n",
       " 0.7112299271342908,\n",
       " 0.7006925890484581,\n",
       " 0.7000276521633919,\n",
       " 0.6948437143871846,\n",
       " 0.6940306250095019,\n",
       " 0.6798698166426838,\n",
       " 0.6632028202534952,\n",
       " 0.652248823160948,\n",
       " 0.654017238487155,\n",
       " 0.6621848364238085,\n",
       " 0.6742585330333302,\n",
       " 0.6845891955294205,\n",
       " 0.7117165594093084,\n",
       " 0.7063254371468615,\n",
       " 0.696324348744479,\n",
       " 0.6918447873318361,\n",
       " 0.6833392185092777,\n",
       " 0.672108508946623,\n",
       " 0.6797801236351315,\n",
       " 0.6837685999284109,\n",
       " 0.6717268365740601,\n",
       " 0.67264921147442,\n",
       " 0.6810396424645881,\n",
       " 0.6822419104381603,\n",
       " 0.6807251444295965,\n",
       " 0.6923765841709395,\n",
       " 0.6841884395382298,\n",
       " 0.6846782524163517,\n",
       " 0.6802826589256723,\n",
       " 0.6727382683613512,\n",
       " 0.6762496541889274,\n",
       " 0.6684889826134874,\n",
       " 0.6672485474026588,\n",
       " 0.6825917767796761,\n",
       " 0.6210216618791169,\n",
       " 0.6062700882916336,\n",
       " 0.6041199369808021,\n",
       " 0.6183754000960158,\n",
       " 0.6310596452775135,\n",
       " 0.6257734829175212,\n",
       " 0.6362215732802365,\n",
       " 0.6370709851453749,\n",
       " 0.6325395799021252,\n",
       " 0.6378216074780811,\n",
       " 0.6333115122756328,\n",
       " 0.6230318030412798,\n",
       " 0.6132928599467857,\n",
       " 0.6221253311564434,\n",
       " 0.6102203337355947,\n",
       " 0.5995780357473071,\n",
       " 0.5900298652270322,\n",
       " 0.5875235499805376,\n",
       " 0.5895845807923759,\n",
       " 0.5901675217294031,\n",
       " 0.5774092321076283,\n",
       " 0.5687579916628758,\n",
       " 0.5524224141171958,\n",
       " 0.5423335410691239,\n",
       " 0.5583065298608694,\n",
       " 0.5577658273330726,\n",
       " 0.5549160069512715,\n",
       " 0.5416146611554022,\n",
       " 0.5401580085455171,\n",
       " 0.5466273552604533,\n",
       " 0.5554821543039061,\n",
       " 0.5620596415244019,\n",
       " 0.5558453791784617,\n",
       " 0.5609082632005047,\n",
       " 0.5587263694706883,\n",
       " 0.5575559075281629,\n",
       " 0.5512933000150313,\n",
       " 0.5568752584637597,\n",
       " 0.5687516304566664,\n",
       " 0.5662771212412188,\n",
       " 0.5514739582713777,\n",
       " 0.5373908838444381,\n",
       " 0.5391624797737495,\n",
       " 0.54548551874587,\n",
       " 0.5488474162275261,\n",
       " 0.550723972059292,\n",
       " 0.543119213648044,\n",
       " 0.5298019648366514,\n",
       " 0.5336373268964709,\n",
       " 0.5434403909495555,\n",
       " 0.5550845789158201,\n",
       " 0.548866436234092,\n",
       " 0.5466324442254209,\n",
       " 0.5342293643583778,\n",
       " 0.5355206892188811,\n",
       " 0.5468691447084717,\n",
       " 0.5584423416134396,\n",
       " 0.556391806791847,\n",
       " 0.5532982249881029,\n",
       " 0.5540254380819587,\n",
       " 0.5507176108530827,\n",
       " 0.5618032849141639,\n",
       " 0.563662665489165,\n",
       " 0.5647440705447588,\n",
       " 0.5650303248241808,\n",
       " 0.581250637313347,\n",
       " 0.5862258639138247,\n",
       " 0.619221440521863,\n",
       " 0.6042153550739429,\n",
       " 0.6067789211763217,\n",
       " 0.6065626401652029,\n",
       " 0.5948389371213212,\n",
       " 0.5893305778284355,\n",
       " 0.5861081815989513,\n",
       " 0.581365902369861,\n",
       " 0.5707490492064107,\n",
       " 0.553357511429974,\n",
       " 0.5511565340815299,\n",
       " 0.5387012923235697,\n",
       " 0.5286851914745332,\n",
       " 0.5276455159316726,\n",
       " 0.5249229196740592,\n",
       " 0.5412266911886923,\n",
       " 0.546010318258144,\n",
       " 0.5567416731333628,\n",
       " 0.5671676901105314,\n",
       " 0.5983121557116409,\n",
       " 0.5958312852899841,\n",
       " 0.5926952106287611,\n",
       " 0.5898899186904261,\n",
       " 0.590379731568548,\n",
       " 0.5887321791603193,\n",
       " 0.5662103285760203,\n",
       " 0.5624852062198091,\n",
       " 0.5851444588582309,\n",
       " 0.5855706596742591,\n",
       " 0.5604552180942728,\n",
       " 0.5957867568465185,\n",
       " 0.622274819502364,\n",
       " 0.6210979963536292,\n",
       " 0.6233053349082829,\n",
       " 0.622427488451389,\n",
       " 0.6096223803519132,\n",
       " 0.6030258095127894,\n",
       " 0.6080766072430346,\n",
       " 0.6120459999176859,\n",
       " 0.6084328347907597,\n",
       " 0.6008560020747709,\n",
       " 0.5859014423971467,\n",
       " 0.5791913876392474,\n",
       " 0.5682763211287016,\n",
       " 0.5631060599458444,\n",
       " 0.5523969692923583,\n",
       " 0.5559290290401147,\n",
       " 0.5706981595567358,\n",
       " 0.5623649794224521,\n",
       " 0.5583574195105445,\n",
       " 0.5547125119646334,\n",
       " 0.5557302413460716,\n",
       " 0.5620087518747268,\n",
       " 0.5589267474662836,\n",
       " 0.5576004359716284,\n",
       " 0.5578676066324224,\n",
       " 0.5452231826017957,\n",
       " 0.5385948057316248,\n",
       " 0.530266332889936,\n",
       " 0.5337586350988837,\n",
       " 0.4848791265860315,\n",
       " 0.483618399127395,\n",
       " 0.47980924523715807,\n",
       " 0.4642242900241844,\n",
       " 0.4458849325225509,\n",
       " 0.44591037734738825,\n",
       " 0.4420872924155528,\n",
       " 0.4377171437497107,\n",
       " 0.43172488750047777,\n",
       " 0.42256475055897513,\n",
       " 0.4224756936720435,\n",
       " 0.4204189884804279,\n",
       " 0.42593618984994475,\n",
       " 0.4233139098142533,\n",
       " 0.4321256434916685,\n",
       " 0.4386904082997456,\n",
       " 0.43299477509605566,\n",
       " 0.4367184343748387,\n",
       " 0.4296956627196864,\n",
       " 0.4320175029861091,\n",
       " 0.4272243977194057,\n",
       " 0.4176011013537979,\n",
       " 0.40804847798917687,\n",
       " 0.41175070000303404,\n",
       " 0.41429963533113146,\n",
       " 0.43204937262921805,\n",
       " 0.44463813610551295,\n",
       " 0.45281228608456225,\n",
       " 0.456081946076182,\n",
       " 0.45383644028427206,\n",
       " 0.44901464597756435,\n",
       " 0.4481495219330889,\n",
       " 0.4506272117516412,\n",
       " 0.4458404040790851,\n",
       " 0.440624214987396,\n",
       " 0.43663573869411687,\n",
       " 0.43026817127853034,\n",
       " 0.4247657279074193,\n",
       " 0.4284749472481071,\n",
       " 0.4329526002988875,\n",
       " 0.4325486637045919,\n",
       " 0.42314998153023775,\n",
       " 0.4268140363068387,\n",
       " 0.42598707949961967,\n",
       " 0.4273483776284266,\n",
       " 0.4315149676955683,\n",
       " 0.43145771683968404,\n",
       " 0.4237765603418613,\n",
       " 0.41974037500201167,\n",
       " 0.4185253846160206,\n",
       " 0.41695416668230445,\n",
       " 0.4153314229782925,\n",
       " 0.4080675616078049,\n",
       " 0.4018144959039873,\n",
       " 0.4017065462346141,\n",
       " 0.3999570236908494,\n",
       " 0.3901862745653084,\n",
       " 0.3961975508211075,\n",
       " 0.3887740231747647,\n",
       " 0.3872982233341893,\n",
       " 0.38691018975541724,\n",
       " 0.40209438897719996,\n",
       " 0.4318330280060372,\n",
       " 0.43349966403289386,\n",
       " 0.4308406798373743,\n",
       " 0.4199572921337513,\n",
       " 0.40780039094701115,\n",
       " 0.3976160998057985,\n",
       " 0.39932090306991164,\n",
       " 0.3967223503333812,\n",
       " 0.39692272832897646,\n",
       " 0.4035411817174608,\n",
       " 0.3963184137390856,\n",
       " 0.3982013307770613,\n",
       " 0.4001859635023248,\n",
       " 0.4002855163795016,\n",
       " 0.39221168262237405,\n",
       " 0.37910498973651174,\n",
       " 0.37592438663182315,\n",
       " 0.37015477259991825,\n",
       " 0.362368656199641,\n",
       " 0.36978582263977444,\n",
       " 0.37778822005117063,\n",
       " 0.3829325275126938,\n",
       " 0.3794357724593993,\n",
       " 0.38063167922676233,\n",
       " 0.38182485067545513,\n",
       " 0.387005607848558,\n",
       " 0.38192300408726565,\n",
       " 0.3865131232638279,\n",
       " 0.3895500903323086,\n",
       " 0.3908795824300684,\n",
       " 0.3906950438379344,\n",
       " 0.37662755436620765,\n",
       " 0.37207649299577117,\n",
       " 0.35741963776874563,\n",
       " 0.3458104364366327,\n",
       " 0.3451806770219046,\n",
       " 0.3392202268037183,\n",
       " 0.32668865057124563,\n",
       " 0.3265452053712242,\n",
       " 0.34623027604645185,\n",
       " 0.3582656781945929,\n",
       " 0.35355202439344446,\n",
       " 0.34476719861829497,\n",
       " 0.34350290888418133,\n",
       " 0.3564972628683861,\n",
       " 0.34780785518637725,\n",
       " 0.3507976221047844,\n",
       " 0.3520253349031941,\n",
       " 0.3392647552471839,\n",
       " 0.33577639698608575,\n",
       " 0.31923967810006526,\n",
       " 0.33563250650162957,\n",
       " 0.35610922928961397,\n",
       " 0.36854316100677265,\n",
       " 0.3767659742133238,\n",
       " 0.3652630050249075,\n",
       " 0.3418417434946647,\n",
       " 0.34696817596673946,\n",
       " 0.3572221859280067,\n",
       " 0.3699003243515433,\n",
       " 0.379970113780987,\n",
       " 0.3979214377038487,\n",
       " 0.38895849815483663,\n",
       " 0.39424466051482887,\n",
       " 0.40602561441459484,\n",
       " 0.4048678748844883,\n",
       " 0.3880106784296393,\n",
       " 0.39214546246573434,\n",
       " 0.3935862756721582,\n",
       " 0.3839872155022086,\n",
       " 0.3688316417083679,\n",
       " 0.3666688315971798,\n",
       " 0.36302386043920687,\n",
       " 0.37318270675558185,\n",
       " 0.37488114881348555,\n",
       " 0.3700402708881496,\n",
       " 0.3606002408734341,\n",
       " 0.36416887755689464,\n",
       " 0.3652502826124887,\n",
       " 0.36135722441234996,\n",
       " 0.35751823646499115,\n",
       " 0.36353911814216644,\n",
       " 0.3667209934880966,\n",
       " 0.3646523292288073,\n",
       " 0.36689013796120407,\n",
       " 0.36403529222649766,\n",
       " 0.37502109535009165,\n",
       " 0.37197407757580014,\n",
       " 0.3574520799204136,\n",
       " 0.355161409564417,\n",
       " 0.35298625871318245,\n",
       " 0.350422310938431,\n",
       " 0.3500088325348216,\n",
       " 0.34557507180688585,\n",
       " 0.3425404583847025,\n",
       " 0.3439848338666037,\n",
       " 0.3494649494039198,\n",
       " 0.36283938545913497,\n",
       " 0.36601998856382334,\n",
       " 0.3622477932816628,\n",
       " 0.35546032264419547,\n",
       " 0.3510011807034844,\n",
       " 0.3504604781756874,\n",
       " 0.3548089987404175,\n",
       " 0.3549991988060778,\n",
       " 0.3552058743958205,\n",
       " 0.3508450767031063,\n",
       " 0.3549769345843451,\n",
       " 0.3592103173166853,\n",
       " 0.3568981460837011,\n",
       " 0.3604857391616654,\n",
       " 0.3666115807412955,\n",
       " 0.36310019491371925,\n",
       " 0.3631536290458781,\n",
       " 0.37153515434735307,\n",
       " 0.3691147153846853,\n",
       " 0.37479209192655416,\n",
       " 0.37280122521920545,\n",
       " 0.37275014473334434,\n",
       " 0.36715928059592273,\n",
       " 0.3637617603594946,\n",
       " 0.3558007107884593,\n",
       " 0.3539973088281011,\n",
       " 0.3563255103007329,\n",
       " 0.3549451285532981,\n",
       " 0.35736238691286126,\n",
       " 0.3208681468896657,\n",
       " 0.31673972405978024,\n",
       " 0.31324106064462287,\n",
       " 0.31588096122151443,\n",
       " 0.31568376382902363,\n",
       " 0.3142340449339067,\n",
       " 0.31532117507508917,\n",
       " 0.30689893805387414,\n",
       " 0.3013837722703444,\n",
       " 0.2934163614930997,\n",
       " 0.2905188320647285,\n",
       " 0.29090686564350043,\n",
       " 0.289634624401625,\n",
       " 0.28002920302546586,\n",
       " 0.266285817010107,\n",
       " 0.25627963964275713,\n",
       " 0.2590499449469408,\n",
       " 0.2559011478732993,\n",
       " 0.2603286110070876,\n",
       " 0.24963535975706286,\n",
       " 0.2450993108332803,\n",
       " 0.23523358889903345,\n",
       " 0.22394499235987309,\n",
       " 0.24128945721036033,\n",
       " 0.2578922054168342,\n",
       " 0.261067655944493,\n",
       " 0.26160078863690084,\n",
       " 0.26230688252614165,\n",
       " 0.2631856831639672,\n",
       " 0.2775864998410651,\n",
       " 0.2905506380957753,\n",
       " 0.2875608711773683,\n",
       " 0.2916065983265319,\n",
       " 0.29184196295627884,\n",
       " 0.29792079522202153,\n",
       " 0.29618666679728334,\n",
       " 0.289431065802925,\n",
       " 0.2900608252176533,\n",
       " 0.29675917535612717,\n",
       " 0.30130107658962246,\n",
       " 0.30809484482123684,\n",
       " 0.3100795411585625,\n",
       " 0.30177562257284196,\n",
       " 0.295843161661977,\n",
       " 0.29495558255958265,\n",
       " 0.2826245751588916,\n",
       " 0.2748817785729002,\n",
       " 0.2745267596543548,\n",
       " 0.2667024760168212,\n",
       " 0.2727010934722637,\n",
       " 0.2812251097928289,\n",
       " 0.28027092886142224,\n",
       " 0.2814107934020804,\n",
       " 0.28289174581968557,\n",
       " 0.2886359150267529,\n",
       " 0.28986998903137207,\n",
       " 0.2831843613053169,\n",
       " 0.2712613616708953,\n",
       " 0.26367447824909573,\n",
       " 0.257771342498856,\n",
       " 0.2584583527694688,\n",
       " 0.2596033698871565,\n",
       " 0.2564100443700492,\n",
       " 0.2672877069880838,\n",
       " 0.26577698412541895,\n",
       " 0.2832367776444822,\n",
       " 0.2900608252176533,\n",
       " 0.29655561675742714,\n",
       " 0.33489460658134196,\n",
       " 0.3337123764073292,\n",
       " 0.34076599991259693,\n",
       " 0.34465905811273556,\n",
       " 0.3372443089309617,\n",
       " 0.33490414839065596,\n",
       " 0.3276689124481108,\n",
       " 0.3125286055491727,\n",
       " 0.3164789146051957,\n",
       " 0.3164471085741488,\n",
       " 0.31789739997782474,\n",
       " 0.31695600507089905,\n",
       " 0.31464688721689527,\n",
       " 0.32549910501009227,\n",
       " 0.320480113310894,\n",
       " 0.32331085007406657,\n",
       " 0.3327445188825725,\n",
       " 0.3132728666756698,\n",
       " 0.3103976014690314,\n",
       " 0.30865272260579923,\n",
       " 0.3170004699023027,\n",
       " 0.3173758446807179,\n",
       " 0.3132764925632091,\n",
       " 0.3118861237220255,\n",
       " 0.3152193957757392,\n",
       " 0.30434809436391397,\n",
       " 0.3012183809089004,\n",
       " 0.30350205393806684,\n",
       " 0.2929392710273965,\n",
       " 0.27751652657276216,\n",
       " 0.2647177796794955,\n",
       " 0.25800670712860296,\n",
       " 0.2617351373120429,\n",
       " 0.2792404134555031,\n",
       " 0.2811233304934787,\n",
       " 0.28527719814820185,\n",
       " 0.27674045941521797,\n",
       " 0.27037289199963166,\n",
       " 0.27401150195139534,\n",
       " 0.2627362639452747,\n",
       " 0.25269509994377315,\n",
       " 0.26618085710765227,\n",
       " 0.2749402380579643,\n",
       " 0.26309599015641494,\n",
       " 0.2702520290816536,\n",
       " 0.26564015457985535,\n",
       " 0.2541390937533017,\n",
       " 0.2473326031092684,\n",
       " 0.23834262843386644,\n",
       " 0.2543871807954675,\n",
       " 0.24499167922421772,\n",
       " 0.2312641962243822,\n",
       " 0.2548324652301238,\n",
       " 0.2832797793984576,\n",
       " 0.3253527972672766,\n",
       " 0.36321463301342605,\n",
       " 0.3292522166736247,\n",
       " 0.31058837404325057,\n",
       " 0.2942083316661671,\n",
       " 0.27295236111753407,\n",
       " 0.28067168485261296,\n",
       " 0.2901689657232128,\n",
       " 0.29561479435906046,\n",
       " 0.2736043847539953,\n",
       " 0.25226889912774497,\n",
       " 0.2670778507952366,\n",
       " 0.25990234657899736,\n",
       " 0.2719345681240338,\n",
       " 0.28613596098646765,\n",
       " 0.29422518886262183,\n",
       " 0.2791672595840953,\n",
       " 0.2943291945841453,\n",
       " 0.3015364412193693,\n",
       " 0.31333011753155415,\n",
       " 0.3225793113599882,\n",
       " 0.3128324803697946,\n",
       " 0.3462429984588705,\n",
       " 0.35684076800369247,\n",
       " 0.3580557583896833,\n",
       " 0.3364912693398956,\n",
       " 0.32724207551146156,\n",
       " 0.32739474446048655,\n",
       " 0.3287751262079215,\n",
       " 0.32217219416258813,\n",
       " 0.323622549178326,\n",
       " 0.33596328922451724,\n",
       " 0.32854930338748856,\n",
       " 0.32922677184878724,\n",
       " 0.31129453154455355,\n",
       " 0.3173758446807179,\n",
       " 0.3283298417732651,\n",
       " 0.3293164648563395,\n",
       " 0.3406196921697813,\n",
       " 0.343685793562701,\n",
       " 0.34029527065310305,\n",
       " 0.33783666445317884,\n",
       " 0.35074355185200456,\n",
       " 0.33848868808964006,\n",
       " 0.3261161420124017,\n",
       " 0.32910590893080904,\n",
       " 0.32729932636734593,\n",
       " 0.324022669048896,\n",
       " 0.33777464269263746,\n",
       " 0.32911863134322783,\n",
       " 0.3154483991992766,\n",
       " 0.3084383499565432,\n",
       " 0.2998265489902887,\n",
       " 0.2908877820248724,\n",
       " 0.29537879360869257,\n",
       " 0.30718837293640067,\n",
       " 0.3102322101075876,\n",
       " 0.29614856317208904,\n",
       " 0.2993609086957624,\n",
       " 0.3046279874371266,\n",
       " 0.30878185509184963,\n",
       " 0.29990797242976885,\n",
       " 0.2899654071245126,\n",
       " 0.2823955717353541,\n",
       " 0.28276452169549793,\n",
       " 0.28290446823210424,\n",
       " 0.275137435450455,\n",
       " 0.27647964996063357,\n",
       " 0.27790456015153386,\n",
       " 0.2849591378377331,\n",
       " 0.2024606545083235,\n",
       " 0.1997825866941758,\n",
       " 0.2069801006838996,\n",
       " 0.21810286057718142,\n",
       " 0.21541207035061505,\n",
       " 0.2124986379067204,\n",
       " 0.20655091010095283,\n",
       " 0.20192154228207893,\n",
       " 0.19336412962891447,\n",
       " 0.1894189095378589,\n",
       " 0.18223201876250483,\n",
       " 0.19034192055883947,\n",
       " 0.19226332289438186,\n",
       " 0.18223201876250483,\n",
       " 0.1570798094106285,\n",
       " 0.14529249430465296,\n",
       " 0.14373399878335558,\n",
       " 0.13465655752257477,\n",
       " 0.14023215476509365,\n",
       " 0.1636318518062867,\n",
       " 0.16296392515430214,\n",
       " 0.1688225960731382,\n",
       " 0.16503767837855898,\n",
       " 0.17741022445579713,\n",
       " 0.1803300181059011,\n",
       " 0.19235269784162357,\n",
       " 0.1823974101239486,\n",
       " 0.17744203048684404,\n",
       " 0.16650711701292498,\n",
       " 0.1651776249151652,\n",
       " 0.16033674698982936,\n",
       " 0.16067389091892637,\n",
       " 0.15069315837641384,\n",
       " 0.13688297969585672,\n",
       " 0.15202983863719044,\n",
       " 0.14663470881483165,\n",
       " 0.14212461361238327,\n",
       " 0.17171694489840483,\n",
       " 0.1767804650410688,\n",
       " 0.17942036561796038,\n",
       " 0.1572642843907004,\n",
       " 0.13678120039650654,\n",
       " 0.12437048708201215,\n",
       " 0.17101721221537336,\n",
       " 0.20505602664174927,\n",
       " 0.21478867214209607,\n",
       " 0.21241594222599847,\n",
       " 0.20933711842065994,\n",
       " 0.20927032575546145,\n",
       " 0.21158962153940042,\n",
       " 0.21230780172043895,\n",
       " 0.21986491469717884,\n",
       " 0.18520842714787233,\n",
       " 0.18374598584033652,\n",
       " 0.18707862177342904,\n",
       " 0.1892357067990288,\n",
       " 0.1771176089701657,\n",
       " 0.1748438594226861,\n",
       " 0.1748530195596275,\n",
       " 0.17412784205175857,\n",
       " 0.17332633006937714,\n",
       " 0.17340902575009898,\n",
       " 0.1725566241180425,\n",
       " 0.18266458078474246,\n",
       " 0.20425451465936784,\n",
       " 0.22525285635652104,\n",
       " 0.21867536913602525,\n",
       " 0.21523395657675237,\n",
       " 0.2136932724328413,\n",
       " 0.10314314196132124,\n",
       " 0.08890224600832708,\n",
       " 0.08207400003905774,\n",
       " 0.06105110408593628,\n",
       " 0.04743805918580746,\n",
       " 0.038538731698889106,\n",
       " 0.03518255930282199,\n",
       " 0.03678303878510114,\n",
       " 0.03862142737961105,\n",
       " 0.03956288589859891,\n",
       " 0.03841182563501222,\n",
       " 0.04021172893195535,\n",
       " 0.041738418422205825,\n",
       " 0.05443538601612219,\n",
       " 0.058900952775104876,\n",
       " 0.05860197608326401,\n",
       " 0.059294711439465186,\n",
       " 0.06217061276672453,\n",
       " 0.055803045351138225,\n",
       " 0.05432724551056278,\n",
       " 0.04614673432530392,\n",
       " 0.04558688456681681,\n",
       " 0.043742198378159514,\n",
       " 0.05072680279605535,\n",
       " 0.0562737746106321,\n",
       " 0.053544817146809365,\n",
       " 0.04368494752227514,\n",
       " 0.048869330582917425,\n",
       " 0.05482341959489412,\n",
       " 0.058124885617560795,\n",
       " 0.06175077315690569,\n",
       " 0.05775593565741688,\n",
       " 0.052806917226521644,\n",
       " 0.05505242301843172,\n",
       " 0.05936532082838941,\n",
       " 0.05643916597207588,\n",
       " 0.054289078273306535,\n",
       " 0.06371638587560313,\n",
       " 0.061248174254302734,\n",
       " 0.05874955606732146,\n",
       " 0.05735517966622605,\n",
       " 0.05097488983822118,\n",
       " 0.054781626470098654,\n",
       " 0.055898463444278734,\n",
       " 0.05053374018760082,\n",
       " 0.04766636287666193,\n",
       " 0.05969610355127697,\n",
       " 0.059549795808461314,\n",
       " 0.04559330938508821,\n",
       " 0.044483278901552015,\n",
       " 0.05508461072185111,\n",
       " 0.060809314637917944,\n",
       " 0.05604477118709439,\n",
       " 0.06367821863834677,\n",
       " 0.07445728256013606,\n",
       " 0.07814741828219562,\n",
       " 0.08626692549990644,\n",
       " 0.09214461642530858,\n",
       " 0.06848092932642647,\n",
       " 0.056801754726010345,\n",
       " 0.05695124307193078,\n",
       " 0.04901563832573308,\n",
       " 0.04281982347779978,\n",
       " 0.05194815438825584,\n",
       " 0.0473362798864575,\n",
       " 0.05224229656337731,\n",
       " 0.06223422482881824,\n",
       " 0.06110829132975848,\n",
       " 0.05973427078853322,\n",
       " 0.06278128856282472,\n",
       " 0.06052942156470531,\n",
       " 0.05371656971446259,\n",
       " 0.05798920108911476,\n",
       " 0.06813106298491067,\n",
       " 0.07499480448482843,\n",
       " 0.0751283898152253,\n",
       " 0.07625432331428494,\n",
       " 0.08016010392684247,\n",
       " 0.09380489124595603,\n",
       " 0.0968582702264571,\n",
       " 0.08565618609174419,\n",
       " 0.08729737729376341,\n",
       " 0.08486421591867666,\n",
       " 0.07839811341890712,\n",
       " 0.07523016911457536,\n",
       " 0.07589809576655993,\n",
       " 0.07575178802374416,\n",
       " 0.07842985583789197,\n",
       " 0.07969573587355794,\n",
       " 0.08654039375484757,\n",
       " ...]"
      ]
     },
     "execution_count": 13,
     "metadata": {},
     "output_type": "execute_result"
    }
   ],
   "source": [
    "y"
   ]
  },
  {
   "cell_type": "code",
   "execution_count": 14,
   "metadata": {},
   "outputs": [
    {
     "data": {
      "text/plain": [
       "[0.7858914044137482, 0.7861776586931704]"
      ]
     },
     "execution_count": 14,
     "metadata": {},
     "output_type": "execute_result"
    }
   ],
   "source": [
    "y[0:2]"
   ]
  },
  {
   "cell_type": "code",
   "execution_count": 15,
   "metadata": {},
   "outputs": [
    {
     "data": {
      "text/plain": [
       "array([[0.04151398, 0.7858914 ],\n",
       "       [0.0886988 , 0.78617766]])"
      ]
     },
     "execution_count": 15,
     "metadata": {},
     "output_type": "execute_result"
    }
   ],
   "source": [
    "input_data[50:52]"
   ]
  },
  {
   "cell_type": "code",
   "execution_count": 16,
   "metadata": {},
   "outputs": [
    {
     "data": {
      "text/plain": [
       "1208"
      ]
     },
     "execution_count": 16,
     "metadata": {},
     "output_type": "execute_result"
    }
   ],
   "source": [
    "len(y)"
   ]
  },
  {
   "cell_type": "code",
   "execution_count": 17,
   "metadata": {},
   "outputs": [
    {
     "data": {
      "text/plain": [
       "50"
      ]
     },
     "execution_count": 17,
     "metadata": {},
     "output_type": "execute_result"
    }
   ],
   "source": [
    "len(X[0])"
   ]
  },
  {
   "cell_type": "code",
   "execution_count": 18,
   "metadata": {},
   "outputs": [
    {
     "data": {
      "text/plain": [
       "1"
      ]
     },
     "execution_count": 18,
     "metadata": {},
     "output_type": "execute_result"
    }
   ],
   "source": [
    "len(X[0][0])"
   ]
  },
  {
   "cell_type": "code",
   "execution_count": 19,
   "metadata": {},
   "outputs": [
    {
     "data": {
      "text/plain": [
       "1208"
      ]
     },
     "execution_count": 19,
     "metadata": {},
     "output_type": "execute_result"
    }
   ],
   "source": [
    "len(X)"
   ]
  },
  {
   "cell_type": "code",
   "execution_count": 20,
   "metadata": {},
   "outputs": [
    {
     "data": {
      "text/plain": [
       "0.7858914044137482"
      ]
     },
     "execution_count": 20,
     "metadata": {},
     "output_type": "execute_result"
    }
   ],
   "source": [
    "y[0]"
   ]
  },
  {
   "cell_type": "code",
   "execution_count": 21,
   "metadata": {},
   "outputs": [
    {
     "data": {
      "text/plain": [
       "[array([[0.07361854, 0.86679577]]),\n",
       " array([[0.09637853, 0.87017739]]),\n",
       " array([[0.09756192, 0.87375875]]),\n",
       " array([[0.13677697, 0.87292543]]),\n",
       " array([[0.13340458, 0.85599953]]),\n",
       " array([[0.19910642, 0.87256284]]),\n",
       " array([[0.53334465, 0.88056524]]),\n",
       " array([[0.17744361, 1.        ]]),\n",
       " array([[0.06597353, 0.98589409]]),\n",
       " array([[0.05386562, 0.97701912]]),\n",
       " array([[0.04590347, 0.97929116]]),\n",
       " array([[0.07001248, 0.97443756]]),\n",
       " array([[0.02628898, 0.9502777 ]]),\n",
       " array([[0.07419842, 0.94977516]]),\n",
       " array([[0.06442924, 0.94453989]]),\n",
       " array([[0.03087017, 0.93344594]]),\n",
       " array([[0.06212242, 0.9222312 ]]),\n",
       " array([[0.03760263, 0.91787371]]),\n",
       " array([[0.01714561, 0.90618818]]),\n",
       " array([[0.01856727, 0.90118191]]),\n",
       " array([[0.0318261 , 0.89809672]]),\n",
       " array([[0.03131351, 0.90648079]]),\n",
       " array([[0.03517008, 0.91455952]]),\n",
       " array([[0.03978242, 0.91363715]]),\n",
       " array([[0.04582715, 0.91172879]]),\n",
       " array([[0.02574721, 0.89281056]]),\n",
       " array([[0.06220542, 0.88746715]]),\n",
       " array([[0.06985984, 0.86406427]]),\n",
       " array([[0.04137103, 0.85714722]]),\n",
       " array([[0.07857823, 0.8672824 ]]),\n",
       " array([[0.12868251, 0.88803329]]),\n",
       " array([[0.09096488, 0.89686742]]),\n",
       " array([[0.10743998, 0.92192262]]),\n",
       " array([[0.06292665, 0.92962922]]),\n",
       " array([[0.14700765, 0.91586993]]),\n",
       " array([[0.08259149, 0.89205357]]),\n",
       " array([[0.06448947, 0.88031785]]),\n",
       " array([[0.18166043, 0.88779793]]),\n",
       " array([[0.05869666, 0.88982079]]),\n",
       " array([[0.08541025, 0.89650642]]),\n",
       " array([[0.13975572, 0.8872127 ]]),\n",
       " array([[0.09806906, 0.85055943]]),\n",
       " array([[0.06446736, 0.818588  ]]),\n",
       " array([[0.06012012, 0.83212783]]),\n",
       " array([[0.05334672, 0.85209617]]),\n",
       " array([[0.08423778, 0.84748378]]),\n",
       " array([[0.08634736, 0.83041374]]),\n",
       " array([[0.08659957, 0.81689592]]),\n",
       " array([[0.09540924, 0.79841026]]),\n",
       " array([[0.04151398, 0.7858914 ]])]"
      ]
     },
     "execution_count": 21,
     "metadata": {},
     "output_type": "execute_result"
    }
   ],
   "source": [
    "X[1]"
   ]
  },
  {
   "cell_type": "code",
   "execution_count": 22,
   "metadata": {
    "collapsed": true
   },
   "outputs": [],
   "source": [
    "X, y= np.array(X), np.array(y)"
   ]
  },
  {
   "cell_type": "code",
   "execution_count": 23,
   "metadata": {
    "collapsed": true
   },
   "outputs": [],
   "source": [
    "from sklearn.model_selection import train_test_split\n",
    "X_train, X_test, y_train, y_test = train_test_split(X, y, test_size=0.33, random_state=42)\n",
    "# test_size=int(.3 * len(stock_data))"
   ]
  },
  {
   "cell_type": "code",
   "execution_count": 24,
   "metadata": {},
   "outputs": [
    {
     "data": {
      "text/plain": [
       "(809, 50, 1, 2)"
      ]
     },
     "execution_count": 24,
     "metadata": {},
     "output_type": "execute_result"
    }
   ],
   "source": [
    "X_train.shape"
   ]
  },
  {
   "cell_type": "code",
   "execution_count": 25,
   "metadata": {
    "collapsed": true
   },
   "outputs": [],
   "source": [
    "X_train = X_train.reshape(X_train.shape[0],lookback, 2)"
   ]
  },
  {
   "cell_type": "code",
   "execution_count": 26,
   "metadata": {},
   "outputs": [
    {
     "data": {
      "text/plain": [
       "(809, 50, 2)"
      ]
     },
     "execution_count": 26,
     "metadata": {},
     "output_type": "execute_result"
    }
   ],
   "source": [
    "X_train.shape"
   ]
  },
  {
   "cell_type": "code",
   "execution_count": 27,
   "metadata": {
    "collapsed": true
   },
   "outputs": [],
   "source": [
    "X_test = X_test.reshape(X_test.shape[0],lookback, 2)\n"
   ]
  },
  {
   "cell_type": "code",
   "execution_count": 28,
   "metadata": {},
   "outputs": [
    {
     "data": {
      "text/plain": [
       "(399, 50, 2)"
      ]
     },
     "execution_count": 28,
     "metadata": {},
     "output_type": "execute_result"
    }
   ],
   "source": [
    "X_test.shape"
   ]
  },
  {
   "cell_type": "code",
   "execution_count": 29,
   "metadata": {},
   "outputs": [
    {
     "data": {
      "text/plain": [
       "(399,)"
      ]
     },
     "execution_count": 29,
     "metadata": {},
     "output_type": "execute_result"
    }
   ],
   "source": [
    "y_test.shape"
   ]
  },
  {
   "cell_type": "code",
   "execution_count": 30,
   "metadata": {},
   "outputs": [
    {
     "name": "stderr",
     "output_type": "stream",
     "text": [
      "Using TensorFlow backend.\n"
     ]
    }
   ],
   "source": [
    "from keras import Sequential\n",
    "from keras.layers import Dense, LSTM"
   ]
  },
  {
   "cell_type": "code",
   "execution_count": null,
   "metadata": {
    "collapsed": true
   },
   "outputs": [],
   "source": [
    "model = Sequential()\n",
    "model.add(LSTM(units=30, return_sequences= True, input_shape=(X.shape[1],2)))\n",
    "model.add(LSTM(units=30, return_sequences=True))\n",
    "model.add(LSTM(units=30))\n",
    "model.add(Dense(units=1))\n",
    "model.summary()"
   ]
  },
  {
   "cell_type": "code",
   "execution_count": null,
   "metadata": {
    "collapsed": true
   },
   "outputs": [],
   "source": [
    "model.compile(optimizer='adam', loss='mean_squared_error')"
   ]
  },
  {
   "cell_type": "code",
   "execution_count": null,
   "metadata": {
    "collapsed": true
   },
   "outputs": [],
   "source": [
    "model.fit(X_train, y_train, epochs=10, batch_size=32)"
   ]
  },
  {
   "cell_type": "code",
   "execution_count": null,
   "metadata": {
    "collapsed": true
   },
   "outputs": [],
   "source": [
    "predicted_value= model.predict(X_test)"
   ]
  },
  {
   "cell_type": "code",
   "execution_count": null,
   "metadata": {
    "collapsed": true
   },
   "outputs": [],
   "source": [
    "plt.plot(predicted_value, color= 'red')\n",
    "plt.plot(y_test, color='green')\n",
    "plt.title(\"Opening price of stocks sold\")\n",
    "plt.xlabel(\"Time (latest-> oldest)\")\n",
    "plt.ylabel(\"Stock Opening Price\")\n",
    "plt.show()"
   ]
  },
  {
   "cell_type": "code",
   "execution_count": 31,
   "metadata": {},
   "outputs": [
    {
     "name": "stdout",
     "output_type": "stream",
     "text": [
      "WARNING:tensorflow:From /Users/inferno/virtualenvs/keras_tf/lib/python3.6/site-packages/tensorflow/python/framework/op_def_library.py:263: colocate_with (from tensorflow.python.framework.ops) is deprecated and will be removed in a future version.\n",
      "Instructions for updating:\n",
      "Colocations handled automatically by placer.\n",
      "[array([[[-0.02259852],\n",
      "        [-0.06335121],\n",
      "        [-0.11654004]]], dtype=float32), array([[-0.11654004]], dtype=float32), array([[-0.26822603]], dtype=float32)]\n"
     ]
    }
   ],
   "source": [
    "'''\n",
    "Understanding return_sequences and return_state.\n",
    "https://machinelearningmastery.com/return-sequences-and-return-states-for-lstms-in-keras/\n",
    "Both are important to use in an encoder-decoder.\n",
    "'''\n",
    "from keras.models import Model\n",
    "from keras.layers import Input\n",
    "from keras.layers import LSTM\n",
    "from numpy import array\n",
    "# define model\n",
    "inputs1 = Input(shape=(3, 1))\n",
    "lstm1, state_h, state_c = LSTM(1, return_sequences=True, return_state=True)(inputs1)\n",
    "model = Model(inputs=inputs1, outputs=[lstm1, state_h, state_c])\n",
    "# define input data\n",
    "data = array([0.1, 0.2, 0.3]).reshape((1,3,1))\n",
    "# make and show prediction\n",
    "print(model.predict(data))"
   ]
  },
  {
   "cell_type": "markdown",
   "metadata": {},
   "source": [
    "# LSTM Autoencoder"
   ]
  },
  {
   "cell_type": "code",
   "execution_count": 43,
   "metadata": {
    "collapsed": true
   },
   "outputs": [],
   "source": [
    "from keras import optimizers\n",
    "from keras.utils import plot_model\n",
    "from keras.layers import Dense, LSTM, RepeatVector, TimeDistributed"
   ]
  },
  {
   "cell_type": "code",
   "execution_count": 46,
   "metadata": {
    "collapsed": true
   },
   "outputs": [],
   "source": [
    "serie_size =  X_train.shape[1] # 12\n",
    "n_features =  X_train.shape[2] # 1"
   ]
  },
  {
   "cell_type": "code",
   "execution_count": 47,
   "metadata": {},
   "outputs": [
    {
     "data": {
      "text/plain": [
       "2"
      ]
     },
     "execution_count": 47,
     "metadata": {},
     "output_type": "execute_result"
    }
   ],
   "source": [
    "n_features"
   ]
  },
  {
   "cell_type": "code",
   "execution_count": 34,
   "metadata": {
    "collapsed": true
   },
   "outputs": [],
   "source": [
    "epochs = 15\n",
    "batch = 64\n",
    "lr = 0.0001"
   ]
  },
  {
   "cell_type": "code",
   "execution_count": 39,
   "metadata": {},
   "outputs": [
    {
     "name": "stdout",
     "output_type": "stream",
     "text": [
      "_________________________________________________________________\n",
      "Layer (type)                 Output Shape              Param #   \n",
      "=================================================================\n",
      "lstm_14 (LSTM)               (None, 50, 10)            520       \n",
      "_________________________________________________________________\n",
      "lstm_15 (LSTM)               (None, 50, 6)             408       \n",
      "_________________________________________________________________\n",
      "lstm_16 (LSTM)               (None, 1)                 32        \n",
      "_________________________________________________________________\n",
      "dense_13 (Dense)             (None, 10)                20        \n",
      "_________________________________________________________________\n",
      "dense_14 (Dense)             (None, 10)                110       \n",
      "_________________________________________________________________\n",
      "dense_15 (Dense)             (None, 1)                 11        \n",
      "=================================================================\n",
      "Total params: 1,101\n",
      "Trainable params: 1,101\n",
      "Non-trainable params: 0\n",
      "_________________________________________________________________\n"
     ]
    },
    {
     "data": {
      "text/plain": [
       "'\\npip install pydot\\nbrew install graphviz\\n'"
      ]
     },
     "execution_count": 39,
     "metadata": {},
     "output_type": "execute_result"
    }
   ],
   "source": [
    "lstm_model = Sequential()\n",
    "lstm_model.add(LSTM(10, input_shape=(serie_size, n_features), return_sequences=True))\n",
    "lstm_model.add(LSTM(6, activation='relu', return_sequences=True))\n",
    "lstm_model.add(LSTM(1, activation='relu'))\n",
    "lstm_model.add(Dense(10, kernel_initializer='glorot_normal', activation='relu'))\n",
    "lstm_model.add(Dense(10, kernel_initializer='glorot_normal', activation='relu'))\n",
    "lstm_model.add(Dense(1))\n",
    "lstm_model.summary()\n",
    "\n",
    "adam = optimizers.Adam(lr)\n",
    "lstm_model.compile(loss='mse', optimizer=adam)\n",
    "\n",
    "'''\n",
    "pip install pydot\n",
    "brew install graphviz\n",
    "'''\n",
    "# plot_model(lstm_model, show_shapes=True, to_file='regular_lstm.png')"
   ]
  },
  {
   "cell_type": "code",
   "execution_count": 41,
   "metadata": {},
   "outputs": [
    {
     "name": "stdout",
     "output_type": "stream",
     "text": [
      "WARNING:tensorflow:From /Users/inferno/virtualenvs/keras_tf/lib/python3.6/site-packages/tensorflow/python/ops/math_ops.py:3066: to_int32 (from tensorflow.python.ops.math_ops) is deprecated and will be removed in a future version.\n",
      "Instructions for updating:\n",
      "Use tf.cast instead.\n",
      "Train on 809 samples, validate on 399 samples\n",
      "Epoch 1/15\n",
      " - 4s - loss: 0.2380 - val_loss: 0.2476\n",
      "Epoch 2/15\n",
      " - 2s - loss: 0.2343 - val_loss: 0.2437\n",
      "Epoch 3/15\n",
      " - 2s - loss: 0.2302 - val_loss: 0.2384\n",
      "Epoch 4/15\n",
      " - 2s - loss: 0.2228 - val_loss: 0.2256\n",
      "Epoch 5/15\n",
      " - 2s - loss: 0.2035 - val_loss: 0.1970\n",
      "Epoch 6/15\n",
      " - 2s - loss: 0.1762 - val_loss: 0.1689\n",
      "Epoch 7/15\n",
      " - 2s - loss: 0.1506 - val_loss: 0.1436\n",
      "Epoch 8/15\n",
      " - 2s - loss: 0.1273 - val_loss: 0.1208\n",
      "Epoch 9/15\n",
      " - 2s - loss: 0.1069 - val_loss: 0.1004\n",
      "Epoch 10/15\n",
      " - 2s - loss: 0.0884 - val_loss: 0.0833\n",
      "Epoch 11/15\n",
      " - 2s - loss: 0.0728 - val_loss: 0.0673\n",
      "Epoch 12/15\n",
      " - 2s - loss: 0.0580 - val_loss: 0.0522\n",
      "Epoch 13/15\n",
      " - 2s - loss: 0.0439 - val_loss: 0.0384\n",
      "Epoch 14/15\n",
      " - 2s - loss: 0.0313 - val_loss: 0.0263\n",
      "Epoch 15/15\n",
      " - 2s - loss: 0.0209 - val_loss: 0.0172\n"
     ]
    }
   ],
   "source": [
    "lstm_history = lstm_model.fit(X_train, y_train, epochs=epochs, batch_size=batch, validation_data=(X_test, y_test), verbose=2)"
   ]
  },
  {
   "cell_type": "code",
   "execution_count": 48,
   "metadata": {},
   "outputs": [
    {
     "name": "stdout",
     "output_type": "stream",
     "text": [
      "_________________________________________________________________\n",
      "Layer (type)                 Output Shape              Param #   \n",
      "=================================================================\n",
      "lstm_25 (LSTM)               (None, 50, 50)            10600     \n",
      "_________________________________________________________________\n",
      "lstm_26 (LSTM)               (None, 50, 6)             1368      \n",
      "_________________________________________________________________\n",
      "lstm_27 (LSTM)               (None, 1)                 32        \n",
      "_________________________________________________________________\n",
      "repeat_vector_2 (RepeatVecto (None, 50, 1)             0         \n",
      "_________________________________________________________________\n",
      "lstm_28 (LSTM)               (None, 50, 50)            10400     \n",
      "_________________________________________________________________\n",
      "lstm_29 (LSTM)               (None, 50, 6)             1368      \n",
      "_________________________________________________________________\n",
      "time_distributed_2 (TimeDist (None, 50, 2)             14        \n",
      "=================================================================\n",
      "Total params: 23,782\n",
      "Trainable params: 23,782\n",
      "Non-trainable params: 0\n",
      "_________________________________________________________________\n"
     ]
    }
   ],
   "source": [
    "encoder_decoder = Sequential()\n",
    "encoder_decoder.add(LSTM(serie_size, activation='relu', input_shape=(serie_size, n_features), return_sequences=True))\n",
    "encoder_decoder.add(LSTM(6, activation='relu', return_sequences=True))\n",
    "encoder_decoder.add(LSTM(1, activation='relu'))\n",
    "encoder_decoder.add(RepeatVector(serie_size))\n",
    "encoder_decoder.add(LSTM(serie_size, activation='relu', return_sequences=True))\n",
    "encoder_decoder.add(LSTM(6, activation='relu', return_sequences=True))\n",
    "encoder_decoder.add(TimeDistributed(Dense(n_features)))\n",
    "encoder_decoder.summary()\n",
    "\n",
    "adam = optimizers.Adam(lr)\n",
    "encoder_decoder.compile(loss='mse', optimizer=adam)"
   ]
  },
  {
   "cell_type": "code",
   "execution_count": 49,
   "metadata": {},
   "outputs": [
    {
     "name": "stdout",
     "output_type": "stream",
     "text": [
      "Epoch 1/15\n",
      " - 7s - loss: 0.1356\n",
      "Epoch 2/15\n",
      " - 3s - loss: 0.1322\n",
      "Epoch 3/15\n",
      " - 2s - loss: 0.1285\n",
      "Epoch 4/15\n",
      " - 2s - loss: 0.1245\n",
      "Epoch 5/15\n",
      " - 2s - loss: 0.1201\n",
      "Epoch 6/15\n",
      " - 2s - loss: 0.1153\n",
      "Epoch 7/15\n",
      " - 2s - loss: 0.1099\n",
      "Epoch 8/15\n",
      " - 2s - loss: 0.1039\n",
      "Epoch 9/15\n",
      " - 2s - loss: 0.0968\n",
      "Epoch 10/15\n",
      " - 2s - loss: 0.0884\n",
      "Epoch 11/15\n",
      " - 2s - loss: 0.0777\n",
      "Epoch 12/15\n",
      " - 3s - loss: 0.0638\n",
      "Epoch 13/15\n",
      " - 3s - loss: 0.0486\n",
      "Epoch 14/15\n",
      " - 3s - loss: 0.0376\n",
      "Epoch 15/15\n",
      " - 3s - loss: 0.0319\n"
     ]
    }
   ],
   "source": [
    "encoder_decoder_history = encoder_decoder.fit(X_train, X_train, epochs=epochs, batch_size=batch, verbose=2)"
   ]
  },
  {
   "cell_type": "code",
   "execution_count": 51,
   "metadata": {},
   "outputs": [
    {
     "data": {
      "text/plain": [
       "[<keras.layers.recurrent.LSTM at 0x136cf4630>,\n",
       " <keras.layers.recurrent.LSTM at 0x136cf4470>,\n",
       " <keras.layers.recurrent.LSTM at 0x136d31dd8>,\n",
       " <keras.layers.core.RepeatVector at 0x136e8eeb8>,\n",
       " <keras.layers.recurrent.LSTM at 0x136d31d30>,\n",
       " <keras.layers.recurrent.LSTM at 0x1370fa748>,\n",
       " <keras.layers.wrappers.TimeDistributed at 0x134541ba8>]"
      ]
     },
     "execution_count": 51,
     "metadata": {},
     "output_type": "execute_result"
    }
   ],
   "source": [
    "rpt_vector_layer = Model(inputs=encoder_decoder.inputs, outputs=encoder_decoder.layers[3].output)\n",
    "time_dist_layer = Model(inputs=encoder_decoder.inputs, outputs=encoder_decoder.layers[5].output)\n",
    "encoder_decoder.layers"
   ]
  },
  {
   "cell_type": "code",
   "execution_count": 62,
   "metadata": {},
   "outputs": [
    {
     "data": {
      "text/plain": [
       "array([[0.14445814],\n",
       "       [0.14445814],\n",
       "       [0.14445814],\n",
       "       [0.14445814],\n",
       "       [0.14445814],\n",
       "       [0.14445814],\n",
       "       [0.14445814],\n",
       "       [0.14445814],\n",
       "       [0.14445814],\n",
       "       [0.14445814],\n",
       "       [0.14445814],\n",
       "       [0.14445814],\n",
       "       [0.14445814],\n",
       "       [0.14445814],\n",
       "       [0.14445814],\n",
       "       [0.14445814],\n",
       "       [0.14445814],\n",
       "       [0.14445814],\n",
       "       [0.14445814],\n",
       "       [0.14445814],\n",
       "       [0.14445814],\n",
       "       [0.14445814],\n",
       "       [0.14445814],\n",
       "       [0.14445814],\n",
       "       [0.14445814],\n",
       "       [0.14445814],\n",
       "       [0.14445814],\n",
       "       [0.14445814],\n",
       "       [0.14445814],\n",
       "       [0.14445814],\n",
       "       [0.14445814],\n",
       "       [0.14445814],\n",
       "       [0.14445814],\n",
       "       [0.14445814],\n",
       "       [0.14445814],\n",
       "       [0.14445814],\n",
       "       [0.14445814],\n",
       "       [0.14445814],\n",
       "       [0.14445814],\n",
       "       [0.14445814],\n",
       "       [0.14445814],\n",
       "       [0.14445814],\n",
       "       [0.14445814],\n",
       "       [0.14445814],\n",
       "       [0.14445814],\n",
       "       [0.14445814],\n",
       "       [0.14445814],\n",
       "       [0.14445814],\n",
       "       [0.14445814],\n",
       "       [0.14445814]], dtype=float32)"
      ]
     },
     "execution_count": 62,
     "metadata": {},
     "output_type": "execute_result"
    }
   ],
   "source": [
    "rpt_vector_layer.predict(X_train)[0]"
   ]
  },
  {
   "cell_type": "code",
   "execution_count": 65,
   "metadata": {},
   "outputs": [
    {
     "data": {
      "text/plain": [
       "(809, 50, 6)"
      ]
     },
     "execution_count": 65,
     "metadata": {},
     "output_type": "execute_result"
    }
   ],
   "source": [
    "time_dist_layer.predict(X_train).shape"
   ]
  },
  {
   "cell_type": "code",
   "execution_count": 66,
   "metadata": {
    "collapsed": true
   },
   "outputs": [],
   "source": [
    "encoder = Model(inputs=encoder_decoder.inputs, outputs=encoder_decoder.layers[2].output)"
   ]
  },
  {
   "cell_type": "code",
   "execution_count": 68,
   "metadata": {},
   "outputs": [
    {
     "name": "stdout",
     "output_type": "stream",
     "text": [
      "Encoded time-series shape (809, 1)\n",
      "Encoded time-series sample [0.14445814]\n"
     ]
    }
   ],
   "source": [
    "train_encoded = encoder.predict(X_train)\n",
    "validation_encoded = encoder.predict(X_test)\n",
    "print('Encoded time-series shape', train_encoded.shape)\n",
    "print('Encoded time-series sample', train_encoded[0])"
   ]
  },
  {
   "cell_type": "code",
   "execution_count": 69,
   "metadata": {},
   "outputs": [
    {
     "ename": "NameError",
     "evalue": "name 'train' is not defined",
     "output_type": "error",
     "traceback": [
      "\u001b[0;31m---------------------------------------------------------------------------\u001b[0m",
      "\u001b[0;31mNameError\u001b[0m                                 Traceback (most recent call last)",
      "\u001b[0;32m<ipython-input-69-931da900f84d>\u001b[0m in \u001b[0;36m<module>\u001b[0;34m\u001b[0m\n\u001b[0;32m----> 1\u001b[0;31m \u001b[0mtrain\u001b[0m\u001b[0;34m[\u001b[0m\u001b[0;34m'encoded'\u001b[0m\u001b[0;34m]\u001b[0m \u001b[0;34m=\u001b[0m \u001b[0mtrain_encoded\u001b[0m\u001b[0;34m\u001b[0m\u001b[0;34m\u001b[0m\u001b[0m\n\u001b[0m\u001b[1;32m      2\u001b[0m \u001b[0mtrain\u001b[0m\u001b[0;34m[\u001b[0m\u001b[0;34m'label'\u001b[0m\u001b[0;34m]\u001b[0m \u001b[0;34m=\u001b[0m \u001b[0my_train\u001b[0m\u001b[0;34m\u001b[0m\u001b[0;34m\u001b[0m\u001b[0m\n\u001b[1;32m      3\u001b[0m \u001b[0;34m\u001b[0m\u001b[0m\n\u001b[1;32m      4\u001b[0m \u001b[0mvalid\u001b[0m\u001b[0;34m[\u001b[0m\u001b[0;34m'encoded'\u001b[0m\u001b[0;34m]\u001b[0m \u001b[0;34m=\u001b[0m \u001b[0mvalidation_encoded\u001b[0m\u001b[0;34m\u001b[0m\u001b[0;34m\u001b[0m\u001b[0m\n\u001b[1;32m      5\u001b[0m \u001b[0mvalid\u001b[0m\u001b[0;34m[\u001b[0m\u001b[0;34m'label'\u001b[0m\u001b[0;34m]\u001b[0m \u001b[0;34m=\u001b[0m \u001b[0my_test\u001b[0m\u001b[0;34m\u001b[0m\u001b[0;34m\u001b[0m\u001b[0m\n",
      "\u001b[0;31mNameError\u001b[0m: name 'train' is not defined"
     ]
    }
   ],
   "source": [
    "train['encoded'] = train_encoded\n",
    "train['label'] = y_train\n",
    "\n",
    "valid['encoded'] = validation_encoded\n",
    "valid['label'] = y_test"
   ]
  },
  {
   "cell_type": "markdown",
   "metadata": {},
   "source": [
    "# Reading and data pre-processing"
   ]
  },
  {
   "cell_type": "code",
   "execution_count": 5,
   "metadata": {},
   "outputs": [
    {
     "name": "stderr",
     "output_type": "stream",
     "text": [
      "Using TensorFlow backend.\n"
     ]
    }
   ],
   "source": [
    "%matplotlib inline\n",
    "import matplotlib.pyplot as plt\n",
    "import seaborn as sns\n",
    "import pandas as pd\n",
    "import numpy as np\n",
    "from pylab import rcParams\n",
    "import tensorflow as tf\n",
    "from keras.models import Model, load_model\n",
    "from keras.layers import Input, Dense\n",
    "from keras.callbacks import ModelCheckpoint, TensorBoard\n",
    "from keras import regularizers\n",
    "from sklearn.preprocessing import StandardScaler\n",
    "from sklearn.model_selection import train_test_split\n",
    "from sklearn.metrics import confusion_matrix, precision_recall_curve\n",
    "from sklearn.metrics import recall_score, classification_report, auc, roc_curve\n",
    "from sklearn.metrics import precision_recall_fscore_support, f1_score\n",
    "from numpy.random import seed\n",
    "seed(1)\n",
    "from tensorflow import set_random_seed\n",
    "set_random_seed(2)\n",
    "SEED = 123 #used to help randomly select the data points\n",
    "DATA_SPLIT_PCT = 0.2\n",
    "rcParams['figure.figsize'] = 8, 6\n",
    "LABELS = [\"Normal\",\"Break\"]"
   ]
  },
  {
   "cell_type": "code",
   "execution_count": 6,
   "metadata": {},
   "outputs": [],
   "source": [
    "'''\n",
    "Clean the data.\n",
    "Curve shifting.\n",
    "'''\n",
    "df = pd.read_csv(\"data/processminer-rare-event-mts - data.csv\")"
   ]
  },
  {
   "cell_type": "code",
   "execution_count": 8,
   "metadata": {},
   "outputs": [
    {
     "data": {
      "text/html": [
       "<div>\n",
       "<style scoped>\n",
       "    .dataframe tbody tr th:only-of-type {\n",
       "        vertical-align: middle;\n",
       "    }\n",
       "\n",
       "    .dataframe tbody tr th {\n",
       "        vertical-align: top;\n",
       "    }\n",
       "\n",
       "    .dataframe thead th {\n",
       "        text-align: right;\n",
       "    }\n",
       "</style>\n",
       "<table border=\"1\" class=\"dataframe\">\n",
       "  <thead>\n",
       "    <tr style=\"text-align: right;\">\n",
       "      <th></th>\n",
       "      <th>time</th>\n",
       "      <th>y</th>\n",
       "      <th>x1</th>\n",
       "      <th>x2</th>\n",
       "      <th>x3</th>\n",
       "      <th>x4</th>\n",
       "      <th>x5</th>\n",
       "      <th>x6</th>\n",
       "      <th>x7</th>\n",
       "      <th>x8</th>\n",
       "      <th>...</th>\n",
       "      <th>x52</th>\n",
       "      <th>x53</th>\n",
       "      <th>x54</th>\n",
       "      <th>x55</th>\n",
       "      <th>x56</th>\n",
       "      <th>x57</th>\n",
       "      <th>x58</th>\n",
       "      <th>x59</th>\n",
       "      <th>x60</th>\n",
       "      <th>x61</th>\n",
       "    </tr>\n",
       "  </thead>\n",
       "  <tbody>\n",
       "    <tr>\n",
       "      <th>0</th>\n",
       "      <td>5/1/99 0:00</td>\n",
       "      <td>0</td>\n",
       "      <td>0.376665</td>\n",
       "      <td>-4.596435</td>\n",
       "      <td>-4.095756</td>\n",
       "      <td>13.497687</td>\n",
       "      <td>-0.118830</td>\n",
       "      <td>-20.669883</td>\n",
       "      <td>0.000732</td>\n",
       "      <td>-0.061114</td>\n",
       "      <td>...</td>\n",
       "      <td>10.091721</td>\n",
       "      <td>0.053279</td>\n",
       "      <td>-4.936434</td>\n",
       "      <td>-24.590146</td>\n",
       "      <td>18.515436</td>\n",
       "      <td>3.473400</td>\n",
       "      <td>0.033444</td>\n",
       "      <td>0.953219</td>\n",
       "      <td>0.006076</td>\n",
       "      <td>0</td>\n",
       "    </tr>\n",
       "    <tr>\n",
       "      <th>1</th>\n",
       "      <td>5/1/99 0:02</td>\n",
       "      <td>0</td>\n",
       "      <td>0.475720</td>\n",
       "      <td>-4.542502</td>\n",
       "      <td>-4.018359</td>\n",
       "      <td>16.230659</td>\n",
       "      <td>-0.128733</td>\n",
       "      <td>-18.758079</td>\n",
       "      <td>0.000732</td>\n",
       "      <td>-0.061114</td>\n",
       "      <td>...</td>\n",
       "      <td>10.095871</td>\n",
       "      <td>0.062801</td>\n",
       "      <td>-4.937179</td>\n",
       "      <td>-32.413266</td>\n",
       "      <td>22.760065</td>\n",
       "      <td>2.682933</td>\n",
       "      <td>0.033536</td>\n",
       "      <td>1.090502</td>\n",
       "      <td>0.006083</td>\n",
       "      <td>0</td>\n",
       "    </tr>\n",
       "    <tr>\n",
       "      <th>2</th>\n",
       "      <td>5/1/99 0:04</td>\n",
       "      <td>0</td>\n",
       "      <td>0.363848</td>\n",
       "      <td>-4.681394</td>\n",
       "      <td>-4.353147</td>\n",
       "      <td>14.127998</td>\n",
       "      <td>-0.138636</td>\n",
       "      <td>-17.836632</td>\n",
       "      <td>0.010803</td>\n",
       "      <td>-0.061114</td>\n",
       "      <td>...</td>\n",
       "      <td>10.100265</td>\n",
       "      <td>0.072322</td>\n",
       "      <td>-4.937924</td>\n",
       "      <td>-34.183774</td>\n",
       "      <td>27.004663</td>\n",
       "      <td>3.537487</td>\n",
       "      <td>0.033629</td>\n",
       "      <td>1.840540</td>\n",
       "      <td>0.006090</td>\n",
       "      <td>0</td>\n",
       "    </tr>\n",
       "    <tr>\n",
       "      <th>3</th>\n",
       "      <td>5/1/99 0:06</td>\n",
       "      <td>0</td>\n",
       "      <td>0.301590</td>\n",
       "      <td>-4.758934</td>\n",
       "      <td>-4.023612</td>\n",
       "      <td>13.161567</td>\n",
       "      <td>-0.148142</td>\n",
       "      <td>-18.517601</td>\n",
       "      <td>0.002075</td>\n",
       "      <td>-0.061114</td>\n",
       "      <td>...</td>\n",
       "      <td>10.104660</td>\n",
       "      <td>0.081600</td>\n",
       "      <td>-4.938669</td>\n",
       "      <td>-35.954281</td>\n",
       "      <td>21.672449</td>\n",
       "      <td>3.986095</td>\n",
       "      <td>0.033721</td>\n",
       "      <td>2.554880</td>\n",
       "      <td>0.006097</td>\n",
       "      <td>0</td>\n",
       "    </tr>\n",
       "    <tr>\n",
       "      <th>4</th>\n",
       "      <td>5/1/99 0:08</td>\n",
       "      <td>0</td>\n",
       "      <td>0.265578</td>\n",
       "      <td>-4.749928</td>\n",
       "      <td>-4.333150</td>\n",
       "      <td>15.267340</td>\n",
       "      <td>-0.155314</td>\n",
       "      <td>-17.505913</td>\n",
       "      <td>0.000732</td>\n",
       "      <td>-0.061114</td>\n",
       "      <td>...</td>\n",
       "      <td>10.109054</td>\n",
       "      <td>0.091121</td>\n",
       "      <td>-4.939414</td>\n",
       "      <td>-37.724789</td>\n",
       "      <td>21.907251</td>\n",
       "      <td>3.601573</td>\n",
       "      <td>0.033777</td>\n",
       "      <td>1.410494</td>\n",
       "      <td>0.006105</td>\n",
       "      <td>0</td>\n",
       "    </tr>\n",
       "  </tbody>\n",
       "</table>\n",
       "<p>5 rows × 63 columns</p>\n",
       "</div>"
      ],
      "text/plain": [
       "          time  y        x1        x2        x3         x4        x5  \\\n",
       "0  5/1/99 0:00  0  0.376665 -4.596435 -4.095756  13.497687 -0.118830   \n",
       "1  5/1/99 0:02  0  0.475720 -4.542502 -4.018359  16.230659 -0.128733   \n",
       "2  5/1/99 0:04  0  0.363848 -4.681394 -4.353147  14.127998 -0.138636   \n",
       "3  5/1/99 0:06  0  0.301590 -4.758934 -4.023612  13.161567 -0.148142   \n",
       "4  5/1/99 0:08  0  0.265578 -4.749928 -4.333150  15.267340 -0.155314   \n",
       "\n",
       "          x6        x7        x8  ...        x52       x53       x54  \\\n",
       "0 -20.669883  0.000732 -0.061114  ...  10.091721  0.053279 -4.936434   \n",
       "1 -18.758079  0.000732 -0.061114  ...  10.095871  0.062801 -4.937179   \n",
       "2 -17.836632  0.010803 -0.061114  ...  10.100265  0.072322 -4.937924   \n",
       "3 -18.517601  0.002075 -0.061114  ...  10.104660  0.081600 -4.938669   \n",
       "4 -17.505913  0.000732 -0.061114  ...  10.109054  0.091121 -4.939414   \n",
       "\n",
       "         x55        x56       x57       x58       x59       x60  x61  \n",
       "0 -24.590146  18.515436  3.473400  0.033444  0.953219  0.006076    0  \n",
       "1 -32.413266  22.760065  2.682933  0.033536  1.090502  0.006083    0  \n",
       "2 -34.183774  27.004663  3.537487  0.033629  1.840540  0.006090    0  \n",
       "3 -35.954281  21.672449  3.986095  0.033721  2.554880  0.006097    0  \n",
       "4 -37.724789  21.907251  3.601573  0.033777  1.410494  0.006105    0  \n",
       "\n",
       "[5 rows x 63 columns]"
      ]
     },
     "execution_count": 8,
     "metadata": {},
     "output_type": "execute_result"
    }
   ],
   "source": [
    "df.head(n=5)  # visualize the data."
   ]
  },
  {
   "cell_type": "code",
   "execution_count": null,
   "metadata": {
    "collapsed": true
   },
   "outputs": [],
   "source": []
  },
  {
   "cell_type": "markdown",
   "metadata": {},
   "source": [
    "# Preparing data for LSTM"
   ]
  },
  {
   "cell_type": "code",
   "execution_count": 3,
   "metadata": {},
   "outputs": [
    {
     "data": {
      "text/plain": [
       "'\\nprepare the 3d arrays\\n'"
      ]
     },
     "execution_count": 3,
     "metadata": {},
     "output_type": "execute_result"
    }
   ],
   "source": [
    "'''\n",
    "prepare the 3d arrays\n",
    "'''\n"
   ]
  },
  {
   "cell_type": "markdown",
   "metadata": {},
   "source": [
    "LSTM autoencoder and fitting"
   ]
  },
  {
   "cell_type": "markdown",
   "metadata": {},
   "source": [
    "Assess the result"
   ]
  },
  {
   "cell_type": "markdown",
   "metadata": {},
   "source": [
    "understand the meaning of the layers."
   ]
  },
  {
   "cell_type": "markdown",
   "metadata": {},
   "source": [
    "In the next, we will learn tuning the model: GaussianDropout, SELU-AlphaDropout, CNN layer."
   ]
  },
  {
   "cell_type": "markdown",
   "metadata": {},
   "source": [
    "Curve shifting"
   ]
  },
  {
   "cell_type": "code",
   "execution_count": null,
   "metadata": {
    "collapsed": true
   },
   "outputs": [],
   "source": []
  }
 ],
 "metadata": {
  "kernelspec": {
   "display_name": "keras_tf",
   "language": "python",
   "name": "keras_tf"
  },
  "language_info": {
   "codemirror_mode": {
    "name": "ipython",
    "version": 3
   },
   "file_extension": ".py",
   "mimetype": "text/x-python",
   "name": "python",
   "nbconvert_exporter": "python",
   "pygments_lexer": "ipython3",
   "version": "3.6.8"
  }
 },
 "nbformat": 4,
 "nbformat_minor": 2
}
